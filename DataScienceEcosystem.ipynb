{
 "cells": [
  {
   "cell_type": "markdown",
   "id": "666fa687-c78a-4b0e-9e67-abbefdf76f9d",
   "metadata": {
    "tags": []
   },
   "source": [
    "# Data Science Tools and Ecosystem"
   ]
  },
  {
   "cell_type": "markdown",
   "id": "4d27e1a8-35d2-46e9-af75-6ab2521c1b79",
   "metadata": {},
   "source": [
    "In this notebook, Data Science Tools and Ecosystem are summarized."
   ]
  },
  {
   "cell_type": "markdown",
   "id": "282cccf0-2769-427a-8792-25fed08eda1c",
   "metadata": {},
   "source": [
    "Some of the popular languages that Data Scientists use are:"
   ]
  },
  {
   "cell_type": "markdown",
   "id": "a259824d-865c-4013-ae47-7a81ac4baefe",
   "metadata": {},
   "source": [
    "1. Python\n",
    "2. R\n",
    "3. Julia"
   ]
  },
  {
   "cell_type": "markdown",
   "id": "98d98f47-7a97-496b-a87e-1ce054c71e74",
   "metadata": {},
   "source": [
    "Some of the commonly used libraries used by Data Scientists include:"
   ]
  },
  {
   "cell_type": "markdown",
   "id": "c8409398-a394-4856-a785-5431024a1513",
   "metadata": {},
   "source": [
    "1. Pandas\n",
    "2. Scikit Learn\n",
    "3. Tensorflow"
   ]
  },
  {
   "cell_type": "markdown",
   "id": "da543c60-8907-40ff-81f7-9b65cb36c3a5",
   "metadata": {
    "tags": []
   },
   "source": [
    "| Data Science Tools |\n",
    "| :-------- |\n",
    "| Jupyter Notebook |\n",
    "| R-Studio |\n",
    "| Apache Zeppelin |"
   ]
  },
  {
   "cell_type": "markdown",
   "id": "0268e6d4-39e7-4fab-af76-1e1a8ccbfcd9",
   "metadata": {},
   "source": [
    "### Below are a few examples of evaluating arithmetic expressions in Python"
   ]
  },
  {
   "cell_type": "code",
   "execution_count": 6,
   "id": "9a474601-25cc-4c03-ad8a-5bb0863b0e48",
   "metadata": {
    "tags": []
   },
   "outputs": [
    {
     "data": {
      "text/plain": [
       "17"
      ]
     },
     "execution_count": 6,
     "metadata": {},
     "output_type": "execute_result"
    }
   ],
   "source": [
    "# This a simple arithmetic expression to mutiply then add integers\n",
    "(3*4)+5"
   ]
  },
  {
   "cell_type": "code",
   "execution_count": 9,
   "id": "c0921b20-75a3-46a9-ab26-836f74679548",
   "metadata": {
    "tags": []
   },
   "outputs": [
    {
     "name": "stdout",
     "output_type": "stream",
     "text": [
      "3.33 hours\n"
     ]
    }
   ],
   "source": [
    "# This will convert 200 minutes to hours by diving by 60\n",
    "print(f'{round(200 / 60,2)} hours')"
   ]
  },
  {
   "cell_type": "markdown",
   "id": "7c84128c-2448-4a6a-b108-8c717381c43e",
   "metadata": {},
   "source": [
    "**Objectives:**\n",
    "+ Popular languages for data science\n",
    "+ Common libraries\n",
    "+ Tools for data science"
   ]
  },
  {
   "cell_type": "markdown",
   "id": "9adc05d5-1983-4d9f-b86e-5a5e807947ea",
   "metadata": {},
   "source": [
    "## Author\n",
    "Henrique"
   ]
  },
  {
   "cell_type": "code",
   "execution_count": null,
   "id": "b53d5e27-d823-4754-a9e3-cc5c474fe8b8",
   "metadata": {},
   "outputs": [],
   "source": []
  }
 ],
 "metadata": {
  "kernelspec": {
   "display_name": "Python 3 (ipykernel)",
   "language": "python",
   "name": "python3"
  },
  "language_info": {
   "codemirror_mode": {
    "name": "ipython",
    "version": 3
   },
   "file_extension": ".py",
   "mimetype": "text/x-python",
   "name": "python",
   "nbconvert_exporter": "python",
   "pygments_lexer": "ipython3",
   "version": "3.11.5"
  }
 },
 "nbformat": 4,
 "nbformat_minor": 5
}
